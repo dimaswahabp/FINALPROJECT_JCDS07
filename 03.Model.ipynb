{
 "cells": [
  {
   "cell_type": "markdown",
   "metadata": {},
   "source": [
    "#### Import Package\n",
    "\n",
    "<hr>"
   ]
  },
  {
   "cell_type": "code",
   "execution_count": 1,
   "metadata": {},
   "outputs": [],
   "source": [
    "import warnings\n",
    "warnings.simplefilter(action='ignore', category=FutureWarning)\n",
    "import numpy as np\n",
    "import pandas as pd\n",
    "from matplotlib import pyplot as plt\n",
    "import seaborn as sns\n",
    "import statsmodels.api as sm\n",
    "from sklearn.linear_model import LinearRegression, Lasso\n",
    "from sklearn.model_selection import train_test_split, cross_val_score, RandomizedSearchCV, GridSearchCV\n",
    "from sklearn.metrics import mean_squared_error, r2_score, mean_absolute_error, accuracy_score\n",
    "import datetime as dt\n",
    "%matplotlib inline"
   ]
  },
  {
   "cell_type": "markdown",
   "metadata": {},
   "source": [
    "#### Import Datasets"
   ]
  },
  {
   "cell_type": "code",
   "execution_count": 2,
   "metadata": {},
   "outputs": [
    {
     "data": {
      "text/html": [
       "<div>\n",
       "<style scoped>\n",
       "    .dataframe tbody tr th:only-of-type {\n",
       "        vertical-align: middle;\n",
       "    }\n",
       "\n",
       "    .dataframe tbody tr th {\n",
       "        vertical-align: top;\n",
       "    }\n",
       "\n",
       "    .dataframe thead th {\n",
       "        text-align: right;\n",
       "    }\n",
       "</style>\n",
       "<table border=\"1\" class=\"dataframe\">\n",
       "  <thead>\n",
       "    <tr style=\"text-align: right;\">\n",
       "      <th></th>\n",
       "      <th>Lyft</th>\n",
       "      <th>Uber</th>\n",
       "      <th>Black</th>\n",
       "      <th>Black SUV</th>\n",
       "      <th>Lux</th>\n",
       "      <th>Lux Black</th>\n",
       "      <th>Lux Black XL</th>\n",
       "      <th>Lyft.1</th>\n",
       "      <th>Lyft XL</th>\n",
       "      <th>Shared</th>\n",
       "      <th>...</th>\n",
       "      <th>16</th>\n",
       "      <th>17</th>\n",
       "      <th>18</th>\n",
       "      <th>19</th>\n",
       "      <th>20</th>\n",
       "      <th>21</th>\n",
       "      <th>22</th>\n",
       "      <th>23</th>\n",
       "      <th>distance</th>\n",
       "      <th>price</th>\n",
       "    </tr>\n",
       "  </thead>\n",
       "  <tbody>\n",
       "    <tr>\n",
       "      <td>0</td>\n",
       "      <td>0</td>\n",
       "      <td>1</td>\n",
       "      <td>1</td>\n",
       "      <td>0</td>\n",
       "      <td>0</td>\n",
       "      <td>0</td>\n",
       "      <td>0</td>\n",
       "      <td>0</td>\n",
       "      <td>0</td>\n",
       "      <td>0</td>\n",
       "      <td>...</td>\n",
       "      <td>0</td>\n",
       "      <td>0</td>\n",
       "      <td>0</td>\n",
       "      <td>0</td>\n",
       "      <td>0</td>\n",
       "      <td>0</td>\n",
       "      <td>0</td>\n",
       "      <td>0</td>\n",
       "      <td>1.50</td>\n",
       "      <td>17.0</td>\n",
       "    </tr>\n",
       "    <tr>\n",
       "      <td>1</td>\n",
       "      <td>1</td>\n",
       "      <td>0</td>\n",
       "      <td>0</td>\n",
       "      <td>0</td>\n",
       "      <td>0</td>\n",
       "      <td>0</td>\n",
       "      <td>0</td>\n",
       "      <td>1</td>\n",
       "      <td>0</td>\n",
       "      <td>0</td>\n",
       "      <td>...</td>\n",
       "      <td>0</td>\n",
       "      <td>0</td>\n",
       "      <td>0</td>\n",
       "      <td>0</td>\n",
       "      <td>0</td>\n",
       "      <td>0</td>\n",
       "      <td>0</td>\n",
       "      <td>0</td>\n",
       "      <td>2.42</td>\n",
       "      <td>10.5</td>\n",
       "    </tr>\n",
       "    <tr>\n",
       "      <td>2</td>\n",
       "      <td>0</td>\n",
       "      <td>1</td>\n",
       "      <td>1</td>\n",
       "      <td>0</td>\n",
       "      <td>0</td>\n",
       "      <td>0</td>\n",
       "      <td>0</td>\n",
       "      <td>0</td>\n",
       "      <td>0</td>\n",
       "      <td>0</td>\n",
       "      <td>...</td>\n",
       "      <td>0</td>\n",
       "      <td>0</td>\n",
       "      <td>0</td>\n",
       "      <td>0</td>\n",
       "      <td>0</td>\n",
       "      <td>0</td>\n",
       "      <td>0</td>\n",
       "      <td>0</td>\n",
       "      <td>1.50</td>\n",
       "      <td>15.0</td>\n",
       "    </tr>\n",
       "    <tr>\n",
       "      <td>3</td>\n",
       "      <td>1</td>\n",
       "      <td>0</td>\n",
       "      <td>0</td>\n",
       "      <td>0</td>\n",
       "      <td>0</td>\n",
       "      <td>0</td>\n",
       "      <td>0</td>\n",
       "      <td>1</td>\n",
       "      <td>0</td>\n",
       "      <td>0</td>\n",
       "      <td>...</td>\n",
       "      <td>0</td>\n",
       "      <td>0</td>\n",
       "      <td>0</td>\n",
       "      <td>0</td>\n",
       "      <td>0</td>\n",
       "      <td>0</td>\n",
       "      <td>0</td>\n",
       "      <td>0</td>\n",
       "      <td>1.99</td>\n",
       "      <td>9.0</td>\n",
       "    </tr>\n",
       "    <tr>\n",
       "      <td>4</td>\n",
       "      <td>1</td>\n",
       "      <td>0</td>\n",
       "      <td>0</td>\n",
       "      <td>0</td>\n",
       "      <td>0</td>\n",
       "      <td>0</td>\n",
       "      <td>0</td>\n",
       "      <td>0</td>\n",
       "      <td>0</td>\n",
       "      <td>1</td>\n",
       "      <td>...</td>\n",
       "      <td>0</td>\n",
       "      <td>0</td>\n",
       "      <td>0</td>\n",
       "      <td>0</td>\n",
       "      <td>0</td>\n",
       "      <td>0</td>\n",
       "      <td>0</td>\n",
       "      <td>0</td>\n",
       "      <td>2.12</td>\n",
       "      <td>7.0</td>\n",
       "    </tr>\n",
       "  </tbody>\n",
       "</table>\n",
       "<p>5 rows × 47 columns</p>\n",
       "</div>"
      ],
      "text/plain": [
       "   Lyft  Uber  Black  Black SUV  Lux  Lux Black  Lux Black XL  Lyft.1  \\\n",
       "0     0     1      1          0    0          0             0       0   \n",
       "1     1     0      0          0    0          0             0       1   \n",
       "2     0     1      1          0    0          0             0       0   \n",
       "3     1     0      0          0    0          0             0       1   \n",
       "4     1     0      0          0    0          0             0       0   \n",
       "\n",
       "   Lyft XL  Shared  ...  16  17  18  19  20  21  22  23  distance  price  \n",
       "0        0       0  ...   0   0   0   0   0   0   0   0      1.50   17.0  \n",
       "1        0       0  ...   0   0   0   0   0   0   0   0      2.42   10.5  \n",
       "2        0       0  ...   0   0   0   0   0   0   0   0      1.50   15.0  \n",
       "3        0       0  ...   0   0   0   0   0   0   0   0      1.99    9.0  \n",
       "4        0       1  ...   0   0   0   0   0   0   0   0      2.12    7.0  \n",
       "\n",
       "[5 rows x 47 columns]"
      ]
     },
     "execution_count": 2,
     "metadata": {},
     "output_type": "execute_result"
    }
   ],
   "source": [
    "dfNew = pd.read_csv('dfNew.csv')\n",
    "dfNew.head()"
   ]
  },
  {
   "cell_type": "markdown",
   "metadata": {},
   "source": [
    "### 3. Membuat new data frame untuk splitting dataset"
   ]
  },
  {
   "cell_type": "code",
   "execution_count": 3,
   "metadata": {},
   "outputs": [
    {
     "data": {
      "text/html": [
       "<div>\n",
       "<style scoped>\n",
       "    .dataframe tbody tr th:only-of-type {\n",
       "        vertical-align: middle;\n",
       "    }\n",
       "\n",
       "    .dataframe tbody tr th {\n",
       "        vertical-align: top;\n",
       "    }\n",
       "\n",
       "    .dataframe thead th {\n",
       "        text-align: right;\n",
       "    }\n",
       "</style>\n",
       "<table border=\"1\" class=\"dataframe\">\n",
       "  <thead>\n",
       "    <tr style=\"text-align: right;\">\n",
       "      <th></th>\n",
       "      <th>Lyft</th>\n",
       "      <th>Uber</th>\n",
       "      <th>Black</th>\n",
       "      <th>Black SUV</th>\n",
       "      <th>Lux</th>\n",
       "      <th>Lux Black</th>\n",
       "      <th>Lux Black XL</th>\n",
       "      <th>Lyft.1</th>\n",
       "      <th>Lyft XL</th>\n",
       "      <th>Shared</th>\n",
       "      <th>...</th>\n",
       "      <th>15</th>\n",
       "      <th>16</th>\n",
       "      <th>17</th>\n",
       "      <th>18</th>\n",
       "      <th>19</th>\n",
       "      <th>20</th>\n",
       "      <th>21</th>\n",
       "      <th>22</th>\n",
       "      <th>23</th>\n",
       "      <th>distance</th>\n",
       "    </tr>\n",
       "  </thead>\n",
       "  <tbody>\n",
       "    <tr>\n",
       "      <td>0</td>\n",
       "      <td>0</td>\n",
       "      <td>1</td>\n",
       "      <td>1</td>\n",
       "      <td>0</td>\n",
       "      <td>0</td>\n",
       "      <td>0</td>\n",
       "      <td>0</td>\n",
       "      <td>0</td>\n",
       "      <td>0</td>\n",
       "      <td>0</td>\n",
       "      <td>...</td>\n",
       "      <td>0</td>\n",
       "      <td>0</td>\n",
       "      <td>0</td>\n",
       "      <td>0</td>\n",
       "      <td>0</td>\n",
       "      <td>0</td>\n",
       "      <td>0</td>\n",
       "      <td>0</td>\n",
       "      <td>0</td>\n",
       "      <td>1.50</td>\n",
       "    </tr>\n",
       "    <tr>\n",
       "      <td>1</td>\n",
       "      <td>1</td>\n",
       "      <td>0</td>\n",
       "      <td>0</td>\n",
       "      <td>0</td>\n",
       "      <td>0</td>\n",
       "      <td>0</td>\n",
       "      <td>0</td>\n",
       "      <td>1</td>\n",
       "      <td>0</td>\n",
       "      <td>0</td>\n",
       "      <td>...</td>\n",
       "      <td>0</td>\n",
       "      <td>0</td>\n",
       "      <td>0</td>\n",
       "      <td>0</td>\n",
       "      <td>0</td>\n",
       "      <td>0</td>\n",
       "      <td>0</td>\n",
       "      <td>0</td>\n",
       "      <td>0</td>\n",
       "      <td>2.42</td>\n",
       "    </tr>\n",
       "    <tr>\n",
       "      <td>2</td>\n",
       "      <td>0</td>\n",
       "      <td>1</td>\n",
       "      <td>1</td>\n",
       "      <td>0</td>\n",
       "      <td>0</td>\n",
       "      <td>0</td>\n",
       "      <td>0</td>\n",
       "      <td>0</td>\n",
       "      <td>0</td>\n",
       "      <td>0</td>\n",
       "      <td>...</td>\n",
       "      <td>0</td>\n",
       "      <td>0</td>\n",
       "      <td>0</td>\n",
       "      <td>0</td>\n",
       "      <td>0</td>\n",
       "      <td>0</td>\n",
       "      <td>0</td>\n",
       "      <td>0</td>\n",
       "      <td>0</td>\n",
       "      <td>1.50</td>\n",
       "    </tr>\n",
       "    <tr>\n",
       "      <td>3</td>\n",
       "      <td>1</td>\n",
       "      <td>0</td>\n",
       "      <td>0</td>\n",
       "      <td>0</td>\n",
       "      <td>0</td>\n",
       "      <td>0</td>\n",
       "      <td>0</td>\n",
       "      <td>1</td>\n",
       "      <td>0</td>\n",
       "      <td>0</td>\n",
       "      <td>...</td>\n",
       "      <td>0</td>\n",
       "      <td>0</td>\n",
       "      <td>0</td>\n",
       "      <td>0</td>\n",
       "      <td>0</td>\n",
       "      <td>0</td>\n",
       "      <td>0</td>\n",
       "      <td>0</td>\n",
       "      <td>0</td>\n",
       "      <td>1.99</td>\n",
       "    </tr>\n",
       "    <tr>\n",
       "      <td>4</td>\n",
       "      <td>1</td>\n",
       "      <td>0</td>\n",
       "      <td>0</td>\n",
       "      <td>0</td>\n",
       "      <td>0</td>\n",
       "      <td>0</td>\n",
       "      <td>0</td>\n",
       "      <td>0</td>\n",
       "      <td>0</td>\n",
       "      <td>1</td>\n",
       "      <td>...</td>\n",
       "      <td>0</td>\n",
       "      <td>0</td>\n",
       "      <td>0</td>\n",
       "      <td>0</td>\n",
       "      <td>0</td>\n",
       "      <td>0</td>\n",
       "      <td>0</td>\n",
       "      <td>0</td>\n",
       "      <td>0</td>\n",
       "      <td>2.12</td>\n",
       "    </tr>\n",
       "    <tr>\n",
       "      <td>...</td>\n",
       "      <td>...</td>\n",
       "      <td>...</td>\n",
       "      <td>...</td>\n",
       "      <td>...</td>\n",
       "      <td>...</td>\n",
       "      <td>...</td>\n",
       "      <td>...</td>\n",
       "      <td>...</td>\n",
       "      <td>...</td>\n",
       "      <td>...</td>\n",
       "      <td>...</td>\n",
       "      <td>...</td>\n",
       "      <td>...</td>\n",
       "      <td>...</td>\n",
       "      <td>...</td>\n",
       "      <td>...</td>\n",
       "      <td>...</td>\n",
       "      <td>...</td>\n",
       "      <td>...</td>\n",
       "      <td>...</td>\n",
       "      <td>...</td>\n",
       "    </tr>\n",
       "    <tr>\n",
       "      <td>635237</td>\n",
       "      <td>1</td>\n",
       "      <td>0</td>\n",
       "      <td>0</td>\n",
       "      <td>0</td>\n",
       "      <td>0</td>\n",
       "      <td>0</td>\n",
       "      <td>0</td>\n",
       "      <td>0</td>\n",
       "      <td>0</td>\n",
       "      <td>1</td>\n",
       "      <td>...</td>\n",
       "      <td>0</td>\n",
       "      <td>0</td>\n",
       "      <td>0</td>\n",
       "      <td>0</td>\n",
       "      <td>0</td>\n",
       "      <td>0</td>\n",
       "      <td>0</td>\n",
       "      <td>0</td>\n",
       "      <td>0</td>\n",
       "      <td>0.69</td>\n",
       "    </tr>\n",
       "    <tr>\n",
       "      <td>635238</td>\n",
       "      <td>0</td>\n",
       "      <td>1</td>\n",
       "      <td>0</td>\n",
       "      <td>0</td>\n",
       "      <td>0</td>\n",
       "      <td>0</td>\n",
       "      <td>0</td>\n",
       "      <td>0</td>\n",
       "      <td>0</td>\n",
       "      <td>0</td>\n",
       "      <td>...</td>\n",
       "      <td>0</td>\n",
       "      <td>0</td>\n",
       "      <td>0</td>\n",
       "      <td>0</td>\n",
       "      <td>0</td>\n",
       "      <td>0</td>\n",
       "      <td>0</td>\n",
       "      <td>0</td>\n",
       "      <td>0</td>\n",
       "      <td>2.71</td>\n",
       "    </tr>\n",
       "    <tr>\n",
       "      <td>635239</td>\n",
       "      <td>0</td>\n",
       "      <td>1</td>\n",
       "      <td>1</td>\n",
       "      <td>0</td>\n",
       "      <td>0</td>\n",
       "      <td>0</td>\n",
       "      <td>0</td>\n",
       "      <td>0</td>\n",
       "      <td>0</td>\n",
       "      <td>0</td>\n",
       "      <td>...</td>\n",
       "      <td>0</td>\n",
       "      <td>0</td>\n",
       "      <td>0</td>\n",
       "      <td>0</td>\n",
       "      <td>0</td>\n",
       "      <td>0</td>\n",
       "      <td>0</td>\n",
       "      <td>0</td>\n",
       "      <td>0</td>\n",
       "      <td>2.71</td>\n",
       "    </tr>\n",
       "    <tr>\n",
       "      <td>635240</td>\n",
       "      <td>1</td>\n",
       "      <td>0</td>\n",
       "      <td>0</td>\n",
       "      <td>0</td>\n",
       "      <td>0</td>\n",
       "      <td>0</td>\n",
       "      <td>0</td>\n",
       "      <td>0</td>\n",
       "      <td>0</td>\n",
       "      <td>1</td>\n",
       "      <td>...</td>\n",
       "      <td>0</td>\n",
       "      <td>0</td>\n",
       "      <td>0</td>\n",
       "      <td>0</td>\n",
       "      <td>0</td>\n",
       "      <td>0</td>\n",
       "      <td>0</td>\n",
       "      <td>0</td>\n",
       "      <td>0</td>\n",
       "      <td>1.99</td>\n",
       "    </tr>\n",
       "    <tr>\n",
       "      <td>635241</td>\n",
       "      <td>1</td>\n",
       "      <td>0</td>\n",
       "      <td>0</td>\n",
       "      <td>0</td>\n",
       "      <td>0</td>\n",
       "      <td>0</td>\n",
       "      <td>0</td>\n",
       "      <td>0</td>\n",
       "      <td>1</td>\n",
       "      <td>0</td>\n",
       "      <td>...</td>\n",
       "      <td>0</td>\n",
       "      <td>0</td>\n",
       "      <td>0</td>\n",
       "      <td>0</td>\n",
       "      <td>0</td>\n",
       "      <td>0</td>\n",
       "      <td>0</td>\n",
       "      <td>0</td>\n",
       "      <td>0</td>\n",
       "      <td>1.99</td>\n",
       "    </tr>\n",
       "  </tbody>\n",
       "</table>\n",
       "<p>635242 rows × 46 columns</p>\n",
       "</div>"
      ],
      "text/plain": [
       "        Lyft  Uber  Black  Black SUV  Lux  Lux Black  Lux Black XL  Lyft.1  \\\n",
       "0          0     1      1          0    0          0             0       0   \n",
       "1          1     0      0          0    0          0             0       1   \n",
       "2          0     1      1          0    0          0             0       0   \n",
       "3          1     0      0          0    0          0             0       1   \n",
       "4          1     0      0          0    0          0             0       0   \n",
       "...      ...   ...    ...        ...  ...        ...           ...     ...   \n",
       "635237     1     0      0          0    0          0             0       0   \n",
       "635238     0     1      0          0    0          0             0       0   \n",
       "635239     0     1      1          0    0          0             0       0   \n",
       "635240     1     0      0          0    0          0             0       0   \n",
       "635241     1     0      0          0    0          0             0       0   \n",
       "\n",
       "        Lyft XL  Shared  ...  15  16  17  18  19  20  21  22  23  distance  \n",
       "0             0       0  ...   0   0   0   0   0   0   0   0   0      1.50  \n",
       "1             0       0  ...   0   0   0   0   0   0   0   0   0      2.42  \n",
       "2             0       0  ...   0   0   0   0   0   0   0   0   0      1.50  \n",
       "3             0       0  ...   0   0   0   0   0   0   0   0   0      1.99  \n",
       "4             0       1  ...   0   0   0   0   0   0   0   0   0      2.12  \n",
       "...         ...     ...  ...  ..  ..  ..  ..  ..  ..  ..  ..  ..       ...  \n",
       "635237        0       1  ...   0   0   0   0   0   0   0   0   0      0.69  \n",
       "635238        0       0  ...   0   0   0   0   0   0   0   0   0      2.71  \n",
       "635239        0       0  ...   0   0   0   0   0   0   0   0   0      2.71  \n",
       "635240        0       1  ...   0   0   0   0   0   0   0   0   0      1.99  \n",
       "635241        1       0  ...   0   0   0   0   0   0   0   0   0      1.99  \n",
       "\n",
       "[635242 rows x 46 columns]"
      ]
     },
     "execution_count": 3,
     "metadata": {},
     "output_type": "execute_result"
    }
   ],
   "source": [
    "x = dfNew.drop(columns = ['price'])\n",
    "y = dfNew['price']\n",
    "x"
   ]
  },
  {
   "cell_type": "markdown",
   "metadata": {},
   "source": [
    "### 1. Building a function to evalute model"
   ]
  },
  {
   "cell_type": "markdown",
   "metadata": {},
   "source": [
    "Saya akan membuat sebuah function yang mana function ini mempermudah perhitungan hasil akurasi dari tiap model yang sudah selesai di fitting dan dicari best estimators-nya. Dalam function ini akan digunakan beberapa metode perhitungan akurasi, yaitu:\n",
    "\n",
    "MAPE (Mean Average Percentage Error):\n",
    "\n",
    "$ \\displaystyle MAPE = \\frac{100}{n} \\sum_{t=1}^n {\\left|\\frac{A_t - F_t}{A_t} \\right|}$\n",
    "\n",
    "Accuracy\n",
    "\n",
    "$ Accuracy =  \\displaystyle 100 - MAPE $\n",
    "\n",
    "RMSE (Root Mean Squared Error)\n",
    "\n",
    "$ \\displaystyle RMSE = \\sqrt{\\sum_{i=1}^n \\frac{(\\hat{y}_i - y_i)^2}{n}}$\n",
    "\n",
    "R2-Score\n",
    "\n",
    "$ \\displaystyle R2 Score = 1 - \\frac{\\sum_{i}(y_{i}-\\hat{y}_i)^2}{\\sum_{i}(y_{i}-\\bar{y}_i)^2} $\n",
    "\n",
    "\n",
    "r2 score : untuk mengetahui kontribusi features terhadap prediksi.\n",
    "mape : rata - rata presentasi eror disetiap prediksi\n",
    "rmse : akar dari rata - rata residual eror."
   ]
  },
  {
   "cell_type": "code",
   "execution_count": 4,
   "metadata": {},
   "outputs": [],
   "source": [
    "def evaluate(model, test_features, test_labels):\n",
    "    vals = dict()\n",
    "    predictions = model.predict(test_features)\n",
    "    errors = abs(predictions - test_labels)\n",
    "    mape = 100 * np.mean(errors / test_labels)\n",
    "    accuracy = 100 - mape\n",
    "    rmse = np.sqrt(mean_squared_error(test_labels, predictions))\n",
    "    r2 = r2_score(test_labels, predictions)\n",
    "    print('Model Performance')\n",
    "    print('Average Error: {:0.4f} degrees.'.format(np.mean(errors)))\n",
    "    print('Accuracy = {:0.2f}%.'.format(accuracy))\n",
    "    print('RMSE = {:0.2f}'.format(rmse))\n",
    "    print('R2 Score = {:0.2f}.'.format(r2))\n",
    "    vals['accuracy'] = accuracy\n",
    "    vals['rmse'] = rmse\n",
    "    vals['r2'] = r2\n",
    "    \n",
    "    return vals"
   ]
  },
  {
   "cell_type": "markdown",
   "metadata": {},
   "source": [
    "### 2. Langkah selanjutnya, saya akan melakukan train_test_split kembali lalu memfitting data training, menggunakan beberapa model yaitu:\n",
    "\n",
    "- Linear Regression\n",
    "- Lasso\n",
    "- Polynomial Regression\n",
    "\n",
    "untuk evaluasi untuk mengetahui model yang kita buat jika modelnya masih kurang bagus maka modelnya perlu diperbaiki.\n"
   ]
  },
  {
   "cell_type": "code",
   "execution_count": 5,
   "metadata": {},
   "outputs": [],
   "source": [
    "xtr, xts, ytr, yts = train_test_split(x,y,test_size = .2)\n",
    "\n",
    "#data training 80%\n",
    "#data test 20%"
   ]
  },
  {
   "cell_type": "markdown",
   "metadata": {},
   "source": [
    "### Linier Regression"
   ]
  },
  {
   "cell_type": "code",
   "execution_count": 6,
   "metadata": {},
   "outputs": [],
   "source": [
    "from sklearn.model_selection import train_test_split\n",
    "from sklearn.linear_model import LinearRegression"
   ]
  },
  {
   "cell_type": "code",
   "execution_count": 7,
   "metadata": {},
   "outputs": [
    {
     "name": "stdout",
     "output_type": "stream",
     "text": [
      "{'fit_intercept': [True, False], 'normalize': [True, False], 'copy_X': [True, False]}\n"
     ]
    }
   ],
   "source": [
    "lnr_grid = {\n",
    "    'fit_intercept': [True, False],\n",
    "    'normalize': [True, False],\n",
    "    'copy_X' :[True, False],\n",
    "}\n",
    "print(lnr_grid)"
   ]
  },
  {
   "cell_type": "code",
   "execution_count": 8,
   "metadata": {},
   "outputs": [
    {
     "name": "stderr",
     "output_type": "stream",
     "text": [
      "C:\\ProgramData\\Anaconda3\\lib\\site-packages\\sklearn\\model_selection\\_search.py:266: UserWarning: The total space of parameters 8 is smaller than n_iter=100. Running 8 iterations. For exhaustive searches, use GridSearchCV.\n",
      "  % (grid_size, self.n_iter, grid_size), UserWarning)\n",
      "[Parallel(n_jobs=-1)]: Using backend LokyBackend with 4 concurrent workers.\n"
     ]
    },
    {
     "name": "stdout",
     "output_type": "stream",
     "text": [
      "Fitting 5 folds for each of 8 candidates, totalling 40 fits\n"
     ]
    },
    {
     "name": "stderr",
     "output_type": "stream",
     "text": [
      "[Parallel(n_jobs=-1)]: Done  33 tasks      | elapsed:   39.6s\n",
      "[Parallel(n_jobs=-1)]: Done  40 out of  40 | elapsed:   43.9s finished\n"
     ]
    },
    {
     "data": {
      "text/plain": [
       "RandomizedSearchCV(cv=5, error_score='raise-deprecating',\n",
       "                   estimator=LinearRegression(copy_X=True, fit_intercept=True,\n",
       "                                              n_jobs=None, normalize=False),\n",
       "                   iid='warn', n_iter=100, n_jobs=-1,\n",
       "                   param_distributions={'copy_X': [True, False],\n",
       "                                        'fit_intercept': [True, False],\n",
       "                                        'normalize': [True, False]},\n",
       "                   pre_dispatch='2*n_jobs', random_state=41, refit=True,\n",
       "                   return_train_score=False, scoring=None, verbose=2)"
      ]
     },
     "execution_count": 8,
     "metadata": {},
     "output_type": "execute_result"
    }
   ],
   "source": [
    "lnr = LinearRegression()\n",
    "lnr_random = RandomizedSearchCV(estimator=lnr, param_distributions=lnr_grid, n_iter=100,\n",
    "                               cv=5, verbose=2, random_state=41, n_jobs=-1)\n",
    "\n",
    "lnr_random.fit(xtr, ytr)"
   ]
  },
  {
   "cell_type": "code",
   "execution_count": 9,
   "metadata": {},
   "outputs": [
    {
     "data": {
      "text/plain": [
       "{'normalize': False, 'fit_intercept': True, 'copy_X': False}"
      ]
     },
     "execution_count": 9,
     "metadata": {},
     "output_type": "execute_result"
    }
   ],
   "source": [
    "lnr_random.best_params_"
   ]
  },
  {
   "cell_type": "markdown",
   "metadata": {},
   "source": [
    "### Linear Regression with default hyperparameters"
   ]
  },
  {
   "cell_type": "code",
   "execution_count": 10,
   "metadata": {},
   "outputs": [
    {
     "name": "stdout",
     "output_type": "stream",
     "text": [
      "Model Performance\n",
      "Average Error: 1.9529 degrees.\n",
      "Accuracy = 85.87%.\n",
      "RMSE = 3.04\n",
      "R2 Score = 0.89.\n"
     ]
    }
   ],
   "source": [
    "base_lnr = LinearRegression()\n",
    "base_lnr.fit(xtr, ytr)\n",
    "base_lnr_accuracy = evaluate(base_lnr, xts, yts)"
   ]
  },
  {
   "cell_type": "markdown",
   "metadata": {},
   "source": [
    "### Linear Regression with best hyperparameters"
   ]
  },
  {
   "cell_type": "code",
   "execution_count": 11,
   "metadata": {},
   "outputs": [
    {
     "name": "stdout",
     "output_type": "stream",
     "text": [
      "Model Performance\n",
      "Average Error: 1.9529 degrees.\n",
      "Accuracy = 85.87%.\n",
      "RMSE = 3.04\n",
      "R2 Score = 0.89.\n"
     ]
    }
   ],
   "source": [
    "best_lnr = LinearRegression(normalize = False, fit_intercept= True, copy_X = False)\n",
    "best_lnr.fit(xtr, ytr)\n",
    "best_lnr_accuracy = evaluate(best_lnr, xts, yts)"
   ]
  },
  {
   "cell_type": "code",
   "execution_count": 12,
   "metadata": {},
   "outputs": [
    {
     "data": {
      "image/png": "[encoded data removed]",
      "text/plain": [
       "<Figure size 720x360 with 2 Axes>"
      ]
     },
     "metadata": {
      "needs_background": "light"
     },
     "output_type": "display_data"
    }
   ],
   "source": [
    "plt.figure(figsize=(10,5))\n",
    "plt.subplot(121)\n",
    "plt.title('Accuracy Score (%)')\n",
    "plt.plot(['default LNR', 'best LNR'], [base_lnr_accuracy['accuracy'], best_lnr_accuracy['accuracy']], 'blue')\n",
    "plt.grid()\n",
    "plt.subplot(122)\n",
    "plt.title('RMSE')\n",
    "plt.plot(['default LNR', 'best LNR'], [base_lnr_accuracy['rmse'], best_lnr_accuracy['rmse']], 'green')\n",
    "plt.grid()\n",
    "plt.show()"
   ]
  },
  {
   "cell_type": "markdown",
   "metadata": {},
   "source": [
    "### Lasso Regression"
   ]
  },
  {
   "cell_type": "code",
   "execution_count": 13,
   "metadata": {},
   "outputs": [
    {
     "name": "stdout",
     "output_type": "stream",
     "text": [
      "{'alpha': array([1.  , 1.01, 1.02, 1.03, 1.04, 1.05, 1.06, 1.07, 1.08, 1.09, 1.1 ,\n",
      "       1.11, 1.12, 1.13, 1.14, 1.15, 1.16, 1.17, 1.18, 1.19, 1.2 , 1.21,\n",
      "       1.22, 1.23, 1.24, 1.25, 1.26, 1.27, 1.28, 1.29, 1.3 , 1.31, 1.32,\n",
      "       1.33, 1.34, 1.35, 1.36, 1.37, 1.38, 1.39, 1.4 , 1.41, 1.42, 1.43,\n",
      "       1.44, 1.45, 1.46, 1.47, 1.48, 1.49, 1.5 , 1.51, 1.52, 1.53, 1.54,\n",
      "       1.55, 1.56, 1.57, 1.58, 1.59, 1.6 , 1.61, 1.62, 1.63, 1.64, 1.65,\n",
      "       1.66, 1.67, 1.68, 1.69, 1.7 , 1.71, 1.72, 1.73, 1.74, 1.75, 1.76,\n",
      "       1.77, 1.78, 1.79, 1.8 , 1.81, 1.82, 1.83, 1.84, 1.85, 1.86, 1.87,\n",
      "       1.88, 1.89, 1.9 , 1.91, 1.92, 1.93, 1.94, 1.95, 1.96, 1.97, 1.98,\n",
      "       1.99, 2.  , 2.01, 2.02, 2.03, 2.04, 2.05, 2.06, 2.07, 2.08, 2.09,\n",
      "       2.1 , 2.11, 2.12, 2.13, 2.14, 2.15, 2.16, 2.17, 2.18, 2.19, 2.2 ,\n",
      "       2.21, 2.22, 2.23, 2.24, 2.25, 2.26, 2.27, 2.28, 2.29, 2.3 , 2.31,\n",
      "       2.32, 2.33, 2.34, 2.35, 2.36, 2.37, 2.38, 2.39, 2.4 , 2.41, 2.42,\n",
      "       2.43, 2.44, 2.45, 2.46, 2.47, 2.48, 2.49, 2.5 , 2.51, 2.52, 2.53,\n",
      "       2.54, 2.55, 2.56, 2.57, 2.58, 2.59, 2.6 , 2.61, 2.62, 2.63, 2.64,\n",
      "       2.65, 2.66, 2.67, 2.68, 2.69, 2.7 , 2.71, 2.72, 2.73, 2.74, 2.75,\n",
      "       2.76, 2.77, 2.78, 2.79, 2.8 , 2.81, 2.82, 2.83, 2.84, 2.85, 2.86,\n",
      "       2.87, 2.88, 2.89, 2.9 , 2.91, 2.92, 2.93, 2.94, 2.95, 2.96, 2.97,\n",
      "       2.98, 2.99]), 'fit_intercept': [True, False], 'max_iter': [10, 100, 1000, 10000, 100000], 'precompute': [True, False], 'warm_start': [True, False], 'random_state': array([20, 21, 22, 23, 24, 25, 26, 27, 28, 29]), 'selection': ['random', 'cyclic']}\n"
     ]
    }
   ],
   "source": [
    "las_grid = {\n",
    "    'alpha': np.arange(1,3,0.01),\n",
    "    'fit_intercept': [True, False],\n",
    "    'max_iter': [10,100,1000,10000,100000],\n",
    "    'precompute': [True, False],\n",
    "    'warm_start': [True, False],\n",
    "    'random_state': np.arange(20,30,1),\n",
    "    'selection': ['random', 'cyclic'],\n",
    "}\n",
    "print(las_grid)"
   ]
  },
  {
   "cell_type": "code",
   "execution_count": 14,
   "metadata": {},
   "outputs": [
    {
     "name": "stdout",
     "output_type": "stream",
     "text": [
      "Fitting 5 folds for each of 100 candidates, totalling 500 fits\n"
     ]
    },
    {
     "name": "stderr",
     "output_type": "stream",
     "text": [
      "[Parallel(n_jobs=-1)]: Using backend LokyBackend with 4 concurrent workers.\n",
      "[Parallel(n_jobs=-1)]: Done  33 tasks      | elapsed:   18.1s\n",
      "[Parallel(n_jobs=-1)]: Done 154 tasks      | elapsed:  1.5min\n",
      "[Parallel(n_jobs=-1)]: Done 357 tasks      | elapsed:  3.7min\n",
      "[Parallel(n_jobs=-1)]: Done 500 out of 500 | elapsed:  5.3min finished\n"
     ]
    },
    {
     "data": {
      "text/plain": [
       "RandomizedSearchCV(cv=5, error_score='raise-deprecating',\n",
       "                   estimator=Lasso(alpha=1.0, copy_X=True, fit_intercept=True,\n",
       "                                   max_iter=1000, normalize=False,\n",
       "                                   positive=False, precompute=False,\n",
       "                                   random_state=None, selection='cyclic',\n",
       "                                   tol=0.0001, warm_start=False),\n",
       "                   iid='warn', n_iter=100, n_jobs=-1,\n",
       "                   param_distributions={'alpha': array([1.  , 1.01, 1.02, 1.03, 1.04, 1.05, 1.06, 1.07, 1.0...\n",
       "       2.87, 2.88, 2.89, 2.9 , 2.91, 2.92, 2.93, 2.94, 2.95, 2.96, 2.97,\n",
       "       2.98, 2.99]),\n",
       "                                        'fit_intercept': [True, False],\n",
       "                                        'max_iter': [10, 100, 1000, 10000,\n",
       "                                                     100000],\n",
       "                                        'precompute': [True, False],\n",
       "                                        'random_state': array([20, 21, 22, 23, 24, 25, 26, 27, 28, 29]),\n",
       "                                        'selection': ['random', 'cyclic'],\n",
       "                                        'warm_start': [True, False]},\n",
       "                   pre_dispatch='2*n_jobs', random_state=41, refit=True,\n",
       "                   return_train_score=False, scoring=None, verbose=2)"
      ]
     },
     "execution_count": 14,
     "metadata": {},
     "output_type": "execute_result"
    }
   ],
   "source": [
    "las = Lasso()\n",
    "las_random = RandomizedSearchCV(estimator=las, param_distributions=las_grid, n_iter=100,\n",
    "                               cv=5, verbose=2, random_state=41, n_jobs=-1)\n",
    "\n",
    "las_random.fit(xtr, ytr)"
   ]
  },
  {
   "cell_type": "code",
   "execution_count": 15,
   "metadata": {},
   "outputs": [
    {
     "data": {
      "text/plain": [
       "{'warm_start': True,\n",
       " 'selection': 'cyclic',\n",
       " 'random_state': 20,\n",
       " 'precompute': False,\n",
       " 'max_iter': 100,\n",
       " 'fit_intercept': True,\n",
       " 'alpha': 1.06}"
      ]
     },
     "execution_count": 15,
     "metadata": {},
     "output_type": "execute_result"
    }
   ],
   "source": [
    "las_random.best_params_"
   ]
  },
  {
   "cell_type": "markdown",
   "metadata": {},
   "source": [
    "### Lasso with default hyperparameters"
   ]
  },
  {
   "cell_type": "code",
   "execution_count": 16,
   "metadata": {},
   "outputs": [
    {
     "name": "stdout",
     "output_type": "stream",
     "text": [
      "Model Performance\n",
      "Average Error: 6.5557 degrees.\n",
      "Accuracy = 45.62%.\n",
      "RMSE = 7.93\n",
      "R2 Score = 0.28.\n"
     ]
    }
   ],
   "source": [
    "base_las = Lasso()\n",
    "base_las.fit(xtr, ytr)\n",
    "base_las_accuracy = evaluate(base_las, xts, yts)"
   ]
  },
  {
   "cell_type": "markdown",
   "metadata": {},
   "source": [
    "### Lasso with best hyperparameters"
   ]
  },
  {
   "cell_type": "code",
   "execution_count": 17,
   "metadata": {},
   "outputs": [
    {
     "name": "stdout",
     "output_type": "stream",
     "text": [
      "Model Performance\n",
      "Average Error: 6.5841 degrees.\n",
      "Accuracy = 45.42%.\n",
      "RMSE = 7.97\n",
      "R2 Score = 0.27.\n"
     ]
    }
   ],
   "source": [
    "best_las = Lasso(warm_start = False, selection = 'cyclic', random_state = 22, precompute = False, max_iter = 100,\n",
    "                 fit_intercept = True, alpha = 1.01)\n",
    "best_las.fit(xtr, ytr)\n",
    "best_las_accuracy = evaluate(best_las, xts, yts)"
   ]
  },
  {
   "cell_type": "code",
   "execution_count": 18,
   "metadata": {},
   "outputs": [
    {
     "data": {
      "image/png": "[encoded data removed]",
      "text/plain": [
       "<Figure size 720x360 with 2 Axes>"
      ]
     },
     "metadata": {
      "needs_background": "light"
     },
     "output_type": "display_data"
    }
   ],
   "source": [
    "plt.figure(figsize=(10,5))\n",
    "plt.subplot(121)\n",
    "plt.title('Accuracy Score (%)')\n",
    "plt.plot(['default Lasso', 'best Lasso'], [base_las_accuracy['accuracy'], best_las_accuracy['accuracy']], 'blue')\n",
    "plt.grid()\n",
    "plt.subplot(122)\n",
    "plt.title('RMSE')\n",
    "plt.plot(['default Lasso', 'best Lasso'], [base_las_accuracy['rmse'], best_las_accuracy['rmse']], 'green')\n",
    "plt.grid()\n",
    "plt.show()"
   ]
  },
  {
   "cell_type": "markdown",
   "metadata": {},
   "source": [
    "### Polynomial Regression"
   ]
  },
  {
   "cell_type": "code",
   "execution_count": 19,
   "metadata": {},
   "outputs": [],
   "source": [
    "from sklearn.preprocessing import PolynomialFeatures\n",
    "from sklearn.pipeline import make_pipeline"
   ]
  },
  {
   "cell_type": "code",
   "execution_count": 20,
   "metadata": {},
   "outputs": [
    {
     "name": "stdout",
     "output_type": "stream",
     "text": [
      "{'fit_intercept': [True, False], 'normalize': [True, False], 'copy_X': [True, False]}\n"
     ]
    }
   ],
   "source": [
    "plr_grid = {\n",
    "    'fit_intercept': [True, False],\n",
    "    'normalize': [True, False],\n",
    "    'copy_X' :[True, False],\n",
    "}\n",
    "print(plr_grid)"
   ]
  },
  {
   "cell_type": "code",
   "execution_count": 21,
   "metadata": {},
   "outputs": [
    {
     "name": "stdout",
     "output_type": "stream",
     "text": [
      "Fitting 5 folds for each of 8 candidates, totalling 40 fits\n"
     ]
    },
    {
     "name": "stderr",
     "output_type": "stream",
     "text": [
      "C:\\ProgramData\\Anaconda3\\lib\\site-packages\\sklearn\\model_selection\\_search.py:266: UserWarning: The total space of parameters 8 is smaller than n_iter=100. Running 8 iterations. For exhaustive searches, use GridSearchCV.\n",
      "  % (grid_size, self.n_iter, grid_size), UserWarning)\n",
      "[Parallel(n_jobs=-1)]: Using backend LokyBackend with 4 concurrent workers.\n",
      "[Parallel(n_jobs=-1)]: Done  33 tasks      | elapsed:   40.0s\n",
      "[Parallel(n_jobs=-1)]: Done  40 out of  40 | elapsed:   45.0s finished\n"
     ]
    },
    {
     "data": {
      "text/plain": [
       "RandomizedSearchCV(cv=5, error_score='raise-deprecating',\n",
       "                   estimator=LinearRegression(copy_X=True, fit_intercept=True,\n",
       "                                              n_jobs=None, normalize=False),\n",
       "                   iid='warn', n_iter=100, n_jobs=-1,\n",
       "                   param_distributions={'copy_X': [True, False],\n",
       "                                        'fit_intercept': [True, False],\n",
       "                                        'normalize': [True, False]},\n",
       "                   pre_dispatch='2*n_jobs', random_state=41, refit=True,\n",
       "                   return_train_score=False, scoring=None, verbose=2)"
      ]
     },
     "execution_count": 21,
     "metadata": {},
     "output_type": "execute_result"
    }
   ],
   "source": [
    "plr = LinearRegression()\n",
    "plr_random = RandomizedSearchCV(estimator=plr, param_distributions=plr_grid, n_iter=100,\n",
    "                               cv=5, verbose=2, random_state=41, n_jobs=-1)\n",
    "\n",
    "plr_random.fit(xtr, ytr)"
   ]
  },
  {
   "cell_type": "code",
   "execution_count": 22,
   "metadata": {},
   "outputs": [
    {
     "data": {
      "text/plain": [
       "{'normalize': False, 'fit_intercept': True, 'copy_X': False}"
      ]
     },
     "execution_count": 22,
     "metadata": {},
     "output_type": "execute_result"
    }
   ],
   "source": [
    "plr_random.best_params_"
   ]
  },
  {
   "cell_type": "markdown",
   "metadata": {},
   "source": [
    "### Polynomial Regression with default hyperparameters"
   ]
  },
  {
   "cell_type": "code",
   "execution_count": 23,
   "metadata": {},
   "outputs": [
    {
     "name": "stdout",
     "output_type": "stream",
     "text": [
      "Model Performance\n",
      "Average Error: 1.9529 degrees.\n",
      "Accuracy = 85.87%.\n",
      "RMSE = 3.04\n",
      "R2 Score = 0.89.\n"
     ]
    }
   ],
   "source": [
    "base_plr = LinearRegression()\n",
    "base_plr.fit(xtr, ytr)\n",
    "base_plr_accuracy = evaluate(base_plr, xts, yts)"
   ]
  },
  {
   "cell_type": "markdown",
   "metadata": {},
   "source": [
    "### Polynomial Regression with best hyperparameters"
   ]
  },
  {
   "cell_type": "code",
   "execution_count": 24,
   "metadata": {},
   "outputs": [
    {
     "data": {
      "text/plain": [
       "Pipeline(memory=None,\n",
       "         steps=[('polynomialfeatures',\n",
       "                 PolynomialFeatures(degree=2, include_bias=False,\n",
       "                                    interaction_only=False, order='C')),\n",
       "                ('linearregression',\n",
       "                 LinearRegression(copy_X=False, fit_intercept=True, n_jobs=None,\n",
       "                                  normalize=False))],\n",
       "         verbose=False)"
      ]
     },
     "execution_count": 24,
     "metadata": {},
     "output_type": "execute_result"
    }
   ],
   "source": [
    "polyReg = make_pipeline(\n",
    "    PolynomialFeatures(2, include_bias=False),\n",
    "    LinearRegression(normalize = False, fit_intercept= True, copy_X = False)\n",
    ")\n",
    "polyReg.fit(xtr,ytr)"
   ]
  },
  {
   "cell_type": "code",
   "execution_count": 25,
   "metadata": {},
   "outputs": [
    {
     "name": "stdout",
     "output_type": "stream",
     "text": [
      "Model Performance\n",
      "Average Error: 1.5495 degrees.\n",
      "Accuracy = 89.71%.\n",
      "RMSE = 2.67\n",
      "R2 Score = 0.92.\n"
     ]
    }
   ],
   "source": [
    "# base_elas = ElasticNet()\n",
    "# base_elas.fit(xtr, ytr)\n",
    "# base_elas_accuracy = evaluate(base_elas, xts, yts)\n",
    "polyReg.fit(xtr, ytr)\n",
    "polyReg_accuracy = evaluate(polyReg,xts,yts)\n",
    "#polyReg.score(xts,yts)"
   ]
  },
  {
   "cell_type": "code",
   "execution_count": 26,
   "metadata": {},
   "outputs": [
    {
     "data": {
      "image/png": "[encoded data removed]",
      "text/plain": [
       "<Figure size 720x360 with 2 Axes>"
      ]
     },
     "metadata": {
      "needs_background": "light"
     },
     "output_type": "display_data"
    }
   ],
   "source": [
    "plt.figure(figsize=(10,5))\n",
    "plt.subplot(121)\n",
    "plt.title('Accuracy Score (%)')\n",
    "plt.plot(['default PLR', 'best PLR'], [base_plr_accuracy['accuracy'], polyReg_accuracy['accuracy']], 'blue')\n",
    "plt.grid()\n",
    "plt.subplot(122)\n",
    "plt.title('RMSE')\n",
    "plt.plot(['default PLR', 'best PLR'], [base_plr_accuracy['rmse'], polyReg_accuracy['rmse']], 'green')\n",
    "plt.grid()\n",
    "plt.show()"
   ]
  },
  {
   "cell_type": "markdown",
   "metadata": {},
   "source": [
    "### Combination beserta evaluation metrics"
   ]
  },
  {
   "cell_type": "code",
   "execution_count": 27,
   "metadata": {},
   "outputs": [],
   "source": [
    "accuracy_list = [best_lnr_accuracy['accuracy'],polyReg_accuracy['accuracy'],best_las_accuracy['accuracy']]\n",
    "rmse_list = [best_lnr_accuracy['rmse'],polyReg_accuracy['rmse'], best_las_accuracy['rmse']]\n",
    "r2_list = [best_lnr_accuracy['r2'],polyReg_accuracy['r2'], best_las_accuracy['r2']]\n",
    "score_list = [best_lnr.score(xts, yts),polyReg.score(xts,yts), best_las.score(xts, yts)]"
   ]
  },
  {
   "cell_type": "code",
   "execution_count": 28,
   "metadata": {},
   "outputs": [
    {
     "data": {
      "text/html": [
       "<div>\n",
       "<style scoped>\n",
       "    .dataframe tbody tr th:only-of-type {\n",
       "        vertical-align: middle;\n",
       "    }\n",
       "\n",
       "    .dataframe tbody tr th {\n",
       "        vertical-align: top;\n",
       "    }\n",
       "\n",
       "    .dataframe thead th {\n",
       "        text-align: right;\n",
       "    }\n",
       "</style>\n",
       "<table border=\"1\" class=\"dataframe\">\n",
       "  <thead>\n",
       "    <tr style=\"text-align: right;\">\n",
       "      <th></th>\n",
       "      <th>accuracy_value (%)</th>\n",
       "      <th>RMSE</th>\n",
       "      <th>R2</th>\n",
       "      <th>score</th>\n",
       "    </tr>\n",
       "  </thead>\n",
       "  <tbody>\n",
       "    <tr>\n",
       "      <td>LinearRegression</td>\n",
       "      <td>85.872063</td>\n",
       "      <td>3.038915</td>\n",
       "      <td>0.893866</td>\n",
       "      <td>0.893866</td>\n",
       "    </tr>\n",
       "    <tr>\n",
       "      <td>PolynomialRegression</td>\n",
       "      <td>89.713626</td>\n",
       "      <td>2.674056</td>\n",
       "      <td>0.917821</td>\n",
       "      <td>0.917821</td>\n",
       "    </tr>\n",
       "    <tr>\n",
       "      <td>Lasso</td>\n",
       "      <td>45.418534</td>\n",
       "      <td>7.965378</td>\n",
       "      <td>0.270827</td>\n",
       "      <td>0.270827</td>\n",
       "    </tr>\n",
       "  </tbody>\n",
       "</table>\n",
       "</div>"
      ],
      "text/plain": [
       "                      accuracy_value (%)      RMSE        R2     score\n",
       "LinearRegression               85.872063  3.038915  0.893866  0.893866\n",
       "PolynomialRegression           89.713626  2.674056  0.917821  0.917821\n",
       "Lasso                          45.418534  7.965378  0.270827  0.270827"
      ]
     },
     "execution_count": 28,
     "metadata": {},
     "output_type": "execute_result"
    }
   ],
   "source": [
    "all_df = pd.DataFrame({'accuracy_value (%)': accuracy_list, 'RMSE': rmse_list, 'R2': r2_list, 'score': score_list}, index='LinearRegression PolynomialRegression Lasso'.split(' '))\n",
    "all_df"
   ]
  },
  {
   "cell_type": "code",
   "execution_count": 29,
   "metadata": {},
   "outputs": [
    {
     "data": {
      "image/png": "[encoded data removed]",
      "text/plain": [
       "<Figure size 1440x576 with 4 Axes>"
      ]
     },
     "metadata": {
      "needs_background": "light"
     },
     "output_type": "display_data"
    }
   ],
   "source": [
    "plt.figure(figsize=(20,8))\n",
    "plt.subplot(221)\n",
    "plt.title('Accuracy Score (%)')\n",
    "plt.plot(all_df.index.tolist(), all_df['accuracy_value (%)'], 'blue')\n",
    "plt.tick_params(\n",
    "    axis='x',          # changes apply to the x-axis\n",
    "    which='both',      # both major and minor ticks are affected\n",
    "    bottom=False,      # ticks along the bottom edge are off\n",
    "    top=False,         # ticks along the top edge are off\n",
    "    labelbottom=False)\n",
    "plt.grid()\n",
    "plt.subplot(222)\n",
    "plt.title('RMSE Score')\n",
    "plt.plot(all_df.index.tolist(), all_df['RMSE'], 'orange')\n",
    "plt.tick_params(\n",
    "    axis='x',          # changes apply to the x-axis\n",
    "    which='both',      # both major and minor ticks are affected\n",
    "    bottom=False,      # ticks along the bottom edge are off\n",
    "    top=False,         # ticks along the top edge are off\n",
    "    labelbottom=False)\n",
    "plt.grid()\n",
    "plt.subplot(223)\n",
    "plt.title('R2 Score')\n",
    "plt.plot(all_df.index.tolist(), all_df['R2'], 'green')\n",
    "plt.xticks(rotation=90)\n",
    "plt.grid()\n",
    "plt.subplot(224)\n",
    "plt.title('Score')\n",
    "plt.plot(all_df.index.tolist(), all_df['score'], 'red')\n",
    "plt.xticks(rotation=90)\n",
    "plt.grid()\n",
    "plt.show()"
   ]
  },
  {
   "cell_type": "markdown",
   "metadata": {},
   "source": [
    "### Check Model Over fitting or Under Fitting\n",
    "\n",
    "<hr>"
   ]
  },
  {
   "cell_type": "markdown",
   "metadata": {},
   "source": [
    "### Polynomial Regression_Train\n",
    "\n",
    "<hr>"
   ]
  },
  {
   "cell_type": "code",
   "execution_count": 30,
   "metadata": {},
   "outputs": [
    {
     "name": "stdout",
     "output_type": "stream",
     "text": [
      "Model Performance\n",
      "Average Error: 1.5481 degrees.\n",
      "Accuracy = 89.68%.\n",
      "RMSE = 2.68\n",
      "R2 Score = 0.92.\n"
     ]
    }
   ],
   "source": [
    "polyReg.fit(xtr, ytr)\n",
    "polyReg_accuracy = evaluate(polyReg,xtr,ytr)"
   ]
  },
  {
   "cell_type": "markdown",
   "metadata": {},
   "source": [
    "### Polynomial Regression_Test\n",
    "\n",
    "<hr>"
   ]
  },
  {
   "cell_type": "code",
   "execution_count": 31,
   "metadata": {},
   "outputs": [
    {
     "name": "stdout",
     "output_type": "stream",
     "text": [
      "Model Performance\n",
      "Average Error: 1.5495 degrees.\n",
      "Accuracy = 89.71%.\n",
      "RMSE = 2.67\n",
      "R2 Score = 0.92.\n"
     ]
    }
   ],
   "source": [
    "polyReg.score(xts, yts)\n",
    "polyReg_accuracy = evaluate(polyReg,xts,yts)"
   ]
  },
  {
   "cell_type": "markdown",
   "metadata": {},
   "source": [
    "### Summary & Save model into Binary File"
   ]
  },
  {
   "cell_type": "code",
   "execution_count": 32,
   "metadata": {},
   "outputs": [
    {
     "data": {
      "text/plain": [
       "Index(['Lyft', 'Uber', 'Black', 'Black SUV', 'Lux', 'Lux Black',\n",
       "       'Lux Black XL', 'Lyft.1', 'Lyft XL', 'Shared', 'UberPool', 'UberX',\n",
       "       'UberXL', 'WAV', 'Friday', 'Monday', 'Saturday', 'Sunday', 'Thursday',\n",
       "       'Tuesday', 'Wednesday', '0', '1', '2', '3', '4', '5', '6', '7', '8',\n",
       "       '9', '10', '11', '12', '13', '14', '15', '16', '17', '18', '19', '20',\n",
       "       '21', '22', '23', 'distance'],\n",
       "      dtype='object')"
      ]
     },
     "execution_count": 32,
     "metadata": {},
     "output_type": "execute_result"
    }
   ],
   "source": [
    "xtr.columns"
   ]
  },
  {
   "cell_type": "code",
   "execution_count": 33,
   "metadata": {},
   "outputs": [
    {
     "name": "stdout",
     "output_type": "stream",
     "text": [
      "Model Performance\n",
      "Average Error: 1.5495 degrees.\n",
      "Accuracy = 89.71%.\n",
      "RMSE = 2.67\n",
      "R2 Score = 0.92.\n"
     ]
    }
   ],
   "source": [
    "final = evaluate(polyReg, xts, yts)"
   ]
  },
  {
   "cell_type": "code",
   "execution_count": 34,
   "metadata": {},
   "outputs": [],
   "source": [
    "pred = polyReg.predict(xts)"
   ]
  },
  {
   "cell_type": "code",
   "execution_count": 35,
   "metadata": {},
   "outputs": [],
   "source": [
    "prediction = pd.DataFrame({'actual': yts, 'pred': pred}, dtype='int64')\n",
    "prediction.sort_values('actual',inplace=True)\n",
    "prediction.reset_index(inplace=True)"
   ]
  },
  {
   "cell_type": "code",
   "execution_count": 36,
   "metadata": {},
   "outputs": [
    {
     "data": {
      "text/html": [
       "<div>\n",
       "<style scoped>\n",
       "    .dataframe tbody tr th:only-of-type {\n",
       "        vertical-align: middle;\n",
       "    }\n",
       "\n",
       "    .dataframe tbody tr th {\n",
       "        vertical-align: top;\n",
       "    }\n",
       "\n",
       "    .dataframe thead th {\n",
       "        text-align: right;\n",
       "    }\n",
       "</style>\n",
       "<table border=\"1\" class=\"dataframe\">\n",
       "  <thead>\n",
       "    <tr style=\"text-align: right;\">\n",
       "      <th></th>\n",
       "      <th>index</th>\n",
       "      <th>actual</th>\n",
       "      <th>pred</th>\n",
       "    </tr>\n",
       "  </thead>\n",
       "  <tbody>\n",
       "    <tr>\n",
       "      <td>0</td>\n",
       "      <td>52220</td>\n",
       "      <td>2</td>\n",
       "      <td>5.167969</td>\n",
       "    </tr>\n",
       "    <tr>\n",
       "      <td>1</td>\n",
       "      <td>290949</td>\n",
       "      <td>2</td>\n",
       "      <td>4.782715</td>\n",
       "    </tr>\n",
       "    <tr>\n",
       "      <td>2</td>\n",
       "      <td>598697</td>\n",
       "      <td>2</td>\n",
       "      <td>4.674805</td>\n",
       "    </tr>\n",
       "    <tr>\n",
       "      <td>3</td>\n",
       "      <td>581270</td>\n",
       "      <td>2</td>\n",
       "      <td>4.747070</td>\n",
       "    </tr>\n",
       "    <tr>\n",
       "      <td>4</td>\n",
       "      <td>229362</td>\n",
       "      <td>2</td>\n",
       "      <td>4.131836</td>\n",
       "    </tr>\n",
       "    <tr>\n",
       "      <td>...</td>\n",
       "      <td>...</td>\n",
       "      <td>...</td>\n",
       "      <td>...</td>\n",
       "    </tr>\n",
       "    <tr>\n",
       "      <td>127044</td>\n",
       "      <td>120206</td>\n",
       "      <td>80</td>\n",
       "      <td>44.990234</td>\n",
       "    </tr>\n",
       "    <tr>\n",
       "      <td>127045</td>\n",
       "      <td>142631</td>\n",
       "      <td>87</td>\n",
       "      <td>42.635254</td>\n",
       "    </tr>\n",
       "    <tr>\n",
       "      <td>127046</td>\n",
       "      <td>222082</td>\n",
       "      <td>89</td>\n",
       "      <td>41.813965</td>\n",
       "    </tr>\n",
       "    <tr>\n",
       "      <td>127047</td>\n",
       "      <td>232057</td>\n",
       "      <td>89</td>\n",
       "      <td>42.394531</td>\n",
       "    </tr>\n",
       "    <tr>\n",
       "      <td>127048</td>\n",
       "      <td>137453</td>\n",
       "      <td>89</td>\n",
       "      <td>47.713867</td>\n",
       "    </tr>\n",
       "  </tbody>\n",
       "</table>\n",
       "<p>127049 rows × 3 columns</p>\n",
       "</div>"
      ],
      "text/plain": [
       "         index  actual       pred\n",
       "0        52220       2   5.167969\n",
       "1       290949       2   4.782715\n",
       "2       598697       2   4.674805\n",
       "3       581270       2   4.747070\n",
       "4       229362       2   4.131836\n",
       "...        ...     ...        ...\n",
       "127044  120206      80  44.990234\n",
       "127045  142631      87  42.635254\n",
       "127046  222082      89  41.813965\n",
       "127047  232057      89  42.394531\n",
       "127048  137453      89  47.713867\n",
       "\n",
       "[127049 rows x 3 columns]"
      ]
     },
     "execution_count": 36,
     "metadata": {},
     "output_type": "execute_result"
    }
   ],
   "source": [
    "prediction"
   ]
  },
  {
   "cell_type": "code",
   "execution_count": 37,
   "metadata": {},
   "outputs": [
    {
     "data": {
      "image/png": "[encoded data removed]",
      "text/plain": [
       "<Figure size 1440x720 with 1 Axes>"
      ]
     },
     "metadata": {
      "needs_background": "light"
     },
     "output_type": "display_data"
    }
   ],
   "source": [
    "plt.figure(figsize=(20,10))\n",
    "plt.plot(prediction.head(100).index.tolist(), prediction.head(100).actual, 'r.')\n",
    "plt.plot(prediction.head(100).index.tolist(), prediction.head(100).pred, 'bo')\n",
    "plt.show()"
   ]
  },
  {
   "cell_type": "markdown",
   "metadata": {},
   "source": [
    "##### Cek harga aktual dan prediksi"
   ]
  },
  {
   "cell_type": "code",
   "execution_count": 38,
   "metadata": {},
   "outputs": [
    {
     "data": {
      "text/plain": [
       "(13.5, 12.4)"
      ]
     },
     "execution_count": 38,
     "metadata": {},
     "output_type": "execute_result"
    }
   ],
   "source": [
    "i = 5\n",
    "\n",
    "a = list(xtr.iloc[i])\n",
    "ytr.iloc[i], round((polyReg.predict([a])[0]), 1)"
   ]
  },
  {
   "cell_type": "code",
   "execution_count": 39,
   "metadata": {},
   "outputs": [],
   "source": [
    "import joblib"
   ]
  },
  {
   "cell_type": "code",
   "execution_count": 40,
   "metadata": {},
   "outputs": [
    {
     "data": {
      "text/plain": [
       "['modelPrediksi']"
      ]
     },
     "execution_count": 40,
     "metadata": {},
     "output_type": "execute_result"
    }
   ],
   "source": [
    "joblib.dump(polyReg,\"modelPrediksi\")"
   ]
  }
 ],
 "metadata": {
  "kernelspec": {
   "display_name": "Python 3",
   "language": "python",
   "name": "python3"
  },
  "language_info": {
   "codemirror_mode": {
    "name": "ipython",
    "version": 3
   },
   "file_extension": ".py",
   "mimetype": "text/x-python",
   "name": "python",
   "nbconvert_exporter": "python",
   "pygments_lexer": "ipython3",
   "version": "3.7.4"
  }
 },
 "nbformat": 4,
 "nbformat_minor": 4
}
